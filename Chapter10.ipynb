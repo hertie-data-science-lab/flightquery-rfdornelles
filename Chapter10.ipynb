{
  "nbformat": 4,
  "nbformat_minor": 0,
  "metadata": {
    "colab": {
      "provenance": []
    },
    "kernelspec": {
      "name": "python3",
      "display_name": "Python 3"
    },
    "language_info": {
      "name": "python"
    }
  },
  "cells": [
    {
      "cell_type": "markdown",
      "source": [
        "# Dictionaries, Maps, and Skip Lists\n",
        "\n"
      ],
      "metadata": {
        "id": "sNdDfE8uQtn6"
      }
    },
    {
      "cell_type": "markdown",
      "source": [
        "In Python, dictionaries (or dicts for short) are a central data structure. Dicts store an arbitrary number of objects, each identified by a unique dictionary key.\n",
        "\n",
        "Dictionaries are also often called maps, hashmaps, lookup tables, or associative arrays. They allow for the efficient lookup, insertion, and deletion of any object associated with a given key.\n",
        "\n",
        "Phone books make a decent real-world analog for dictionary objects. They allow you to quickly retrieve the information (phone number) associated with a given key (a person’s name). Instead of having to read a phone book front to back to find someone’s number, you can jump more or less directly to a name and look up the associated information.\n",
        "\n",
        "This analogy breaks down somewhat when it comes to how the information is organized to allow for fast lookups. But the fundamental performance characteristics hold. Dictionaries allow you to quickly find the information associated with a given key.\n",
        "\n",
        "Dictionaries are one of the most important and frequently used data structures in computer science. So, how does Python handle dictionaries? Let’s take a tour of the dictionary implementations available in core Python and the Python standard library."
      ],
      "metadata": {
        "id": "PgW1Cf0kQ2fO"
      }
    },
    {
      "cell_type": "markdown",
      "source": [
        "# dict: Your Go-To Dictionary\n",
        "\n",
        "Because dictionaries are so important, Python features a robust dictionary implementation that’s built directly into the core language: the dict data type.\n",
        "\n",
        "Python also provides some useful syntactic sugar for working with dictionaries in your programs. For example, the curly-brace ({ }) dictionary expression syntax and dictionary comprehensions allow you to conveniently define new dictionary objects:"
      ],
      "metadata": {
        "id": "CWSj3h7vQ5-W"
      }
    },
    {
      "cell_type": "code",
      "source": [
        "phonebook = {\n",
        "    \"bob\": 7387,\n",
        "     \"alice\": 3719,\n",
        "     \"jack\": 7052,\n",
        " }\n",
        "\n",
        "squares = {x: x * x for x in range(6)}\n",
        "\n",
        "print(phonebook[\"alice\"])\n",
        "\n",
        "\n",
        "print(squares)"
      ],
      "metadata": {
        "colab": {
          "base_uri": "https://localhost:8080/"
        },
        "id": "bdMJTEfmQ-9v",
        "outputId": "70a19328-3824-4c0c-b17a-43b31415ae9c"
      },
      "execution_count": null,
      "outputs": [
        {
          "output_type": "stream",
          "name": "stdout",
          "text": [
            "3719\n",
            "{0: 0, 1: 1, 2: 4, 3: 9, 4: 16, 5: 25}\n"
          ]
        }
      ]
    },
    {
      "cell_type": "markdown",
      "source": [
        "#The Map Abstract Data Type\n",
        "\n",
        "* The map is an abstract data type that contains a collection of records. \n",
        "* Every record of a map contains a key and a value. \n",
        "* The property of the map is such that every value can be accessed or retrieved with the help of a key. \n",
        "* Python's built-in dictionary is an example of this.\n"
      ],
      "metadata": {
        "id": "V1jvzc5HLd1-"
      }
    },
    {
      "cell_type": "markdown",
      "source": [
        "## Map Core Functionality\n",
        "\n",
        "* M[k]: Return the value associated with the key ```k```\n",
        "* M[k]=v: Assign the value of the key ```k``` to ```v```\n",
        "* del M[k]: remove the item with the key equal to k. Raise a KeyError if this does not exist\n",
        "* len(M): As we have seen in previous data structures, we use ```__len__``` to implement this special method\n",
        "* iter(M): As we have seen in previous data structures, we use ```__iter__``` to allow iterating over the sequence"
      ],
      "metadata": {
        "id": "pZmS7jpEL705"
      }
    },
    {
      "cell_type": "markdown",
      "source": [
        "## Mapping in Python\n",
        "\n",
        "The [collections](https://docs.python.org/3/library/collections.abc.html) module provides two Map abstract base classes: the Mapping and MutableMapping classes. \n",
        "* The **Mapping** class includes all nonmutating methods supported by Python’s dict class. \n",
        "* The **MutableMapping** class extends that to include the mutating methods. \n",
        "* These Map classes provide the framework for you to implement a map class, including all the functionality discussed above.\n"
      ],
      "metadata": {
        "id": "L1y9dXdZBjlt"
      }
    },
    {
      "cell_type": "markdown",
      "source": [
        "### Mutable Mapping contains the following abstract methods:\n",
        "\n",
        "* ```__getitem__```\n",
        "* ```__setitem__```\n",
        "* ```__delitem__```\n",
        "* ```__iter__```\n",
        "* ```__len__```\n",
        "\n",
        "So as long as we implement these methods, we can inherit all other derived behaviours."
      ],
      "metadata": {
        "id": "rmHwox0nDwvR"
      }
    },
    {
      "cell_type": "markdown",
      "source": [
        "## Map Base Class\n",
        "\n",
        "As there are multiple implementations for a map, let's start with a MapBase class that inherits MutableMapping and implements a composite to store the key and the value. We are using a [composite](https://refactoring.guru/design-patterns/composite/python/example#:~:text=Composite%20is%20a%20structural%20design,require%20building%20a%20tree%20structure.) because that's what is used in the book, but you can think of another way to store this data."
      ],
      "metadata": {
        "id": "_oJmkqfsGIsc"
      }
    },
    {
      "cell_type": "code",
      "source": [
        "from collections.abc import MutableMapping\n",
        "\n",
        "class MapBase(MutableMapping):\n",
        "  \n",
        "  #Inner Class: Item, to store the key and the value\n",
        "  class _Item:\n",
        "    #store the key-value pairs as a composite\n",
        "    __slots__ = '_key', '_value'\n",
        "\n",
        "    def __init__(self, k, v):\n",
        "      self._key = k\n",
        "      self._value = v\n",
        "\n",
        "    def __eq__(self, other):\n",
        "      return self._key == other._key\n",
        "\n",
        "    def __ne__(self, other):\n",
        "      return not (self == other)\n",
        "\n",
        "    def __lt__(self,other):\n",
        "      return self._key< other._key\n",
        "\n",
        "\n",
        "  "
      ],
      "metadata": {
        "id": "Kpb-j2kwQs-V"
      },
      "execution_count": null,
      "outputs": []
    },
    {
      "cell_type": "markdown",
      "source": [
        "## Our First Map Implementation: The Unsorted Map\n",
        "\n",
        "* We will store key-value pairs in an arbitrary order in the map\n",
        "* We create an empty table within the constructor\n",
        "* When a new key is entered into the map, we create a new instance of the ```_Item``` class (inherited from MapBase)\n",
        "* ```___getItem__```, ```__setitem__```, and ```__delitem__``` rely on for loops to search for a matching key. While not the most efficient, it is a simple implementation for now. \n"
      ],
      "metadata": {
        "id": "jMTpBwgwGj3Y"
      }
    },
    {
      "cell_type": "code",
      "source": [
        "class UnsortedTableMap(MapBase):\n",
        "    def __init__(self):\n",
        "        self._table = []\n",
        "\n",
        "    def __len__(self):\n",
        "        return len(self._table)\n",
        "\n",
        "    def _findkey(self, key):\n",
        "        for i in range(len(self)):\n",
        "            if key == self._table[i]._key:\n",
        "                return i\n",
        "        return None\n",
        "\n",
        "    def __setitem__(self, key, value):\n",
        "        i = self._findkey(key)\n",
        "        if i is not None:\n",
        "            self._table[i]._value = value\n",
        "        else:\n",
        "            self._table.append(self._Item(key, value))\n",
        "\n",
        "    def __getitem__(self, item):\n",
        "        i = self._findkey(item)\n",
        "        if i is None:\n",
        "            raise KeyError(item)\n",
        "        else:\n",
        "            return self._table[i]._value\n",
        "\n",
        "    def __delitem__(self, key):\n",
        "        i = self._findkey(key)\n",
        "        if i is None:\n",
        "            raise KeyError(key)\n",
        "        else:\n",
        "            del self._table[i]\n",
        "\n",
        "    def __iter__(self):\n",
        "        for item in self._table:\n",
        "            yield item._key\n"
      ],
      "metadata": {
        "id": "MQJggmo7OJAq"
      },
      "execution_count": null,
      "outputs": []
    },
    {
      "cell_type": "code",
      "source": [
        "map = UnsortedTableMap()\n",
        "map['word'] = 5\n",
        "map['word2'] = 6\n",
        "map['word3'] = 7\n",
        "print(map['word'])\n",
        "print(len(map))\n",
        "del map['word3']\n",
        "print(len(map))\n"
      ],
      "metadata": {
        "colab": {
          "base_uri": "https://localhost:8080/"
        },
        "id": "f4EJeMUIPflX",
        "outputId": "72f5d1b8-28b0-476d-ac49-200e2c0e1dc6"
      },
      "execution_count": null,
      "outputs": [
        {
          "output_type": "stream",
          "name": "stdout",
          "text": [
            "5\n",
            "3\n",
            "2\n"
          ]
        }
      ]
    },
    {
      "cell_type": "markdown",
      "source": [
        "## Try it out:\n",
        "\n",
        "Create an UnsortedTableMap called map. \n",
        "\n",
        "* Add 3 elements.\n",
        "* Print the elements\n",
        "* Print the length of the map\n",
        "* Delete the elements\n",
        "\n",
        "If that was too easy, try this:\n",
        "Create a frequency list for a string using the UnsortedTableMap instead of a dictionary. You may use the frequency list we created in session 1 for this."
      ],
      "metadata": {
        "id": "pcTLG6K4OgrD"
      }
    },
    {
      "cell_type": "code",
      "source": [
        "# Dictionaries option 1 \n",
        "# Take a look at what count() does under string functions\n",
        "\n",
        "input = \"It was the best of times it was the blurst of times\"\n",
        "input = input.lower()\n",
        "words = input.split(\" \") # this is a list of words in the sentence input\n",
        "frequencies = UnsortedTableMap() # this is an empty dictionary\n",
        " \n",
        "for word in words: # for every word in the list words\n",
        "  if word not in frequencies: # if the word is not already in the dictionary\n",
        "    frequencies[word] = input.count(word) # add the word to the dictionary\n",
        "\n",
        "print(frequencies.toString())"
      ],
      "metadata": {
        "colab": {
          "base_uri": "https://localhost:8080/"
        },
        "id": "Yl71-O1XRO4N",
        "outputId": "c40ba4dd-7749-42e8-dc16-8b9d5330c47d"
      },
      "execution_count": null,
      "outputs": [
        {
          "output_type": "stream",
          "name": "stdout",
          "text": [
            "<__main__.UnsortedTableMap object at 0x7fb221e3f1f0>\n"
          ]
        }
      ]
    },
    {
      "cell_type": "markdown",
      "source": [
        "# Hash Tables\n",
        "\n",
        "* What is the time complexity of retrieving an element in the array? \n",
        "* What is the time complexity of retrieving a value for a given key in a dictionary?\n",
        "* What if, hear me out, we could make retrieving an item from a dictionary as efficient as retrieving a an element from an array?\n",
        "* We can! \n"
      ],
      "metadata": {
        "id": "Zd42Fn2AO0Z3"
      }
    },
    {
      "cell_type": "markdown",
      "source": [
        "## Hashing\n",
        "\n",
        "* We can create an index out of a key through a trick called **hashing**\n",
        "* A **hash function** turns any data into a fixed-size sequence of bytes called the **hash code**\n",
        "* Implementing a hash function can be pretty complex, but luckily you don't need to know how as python has a built in [hashlib](https://docs.python.org/3/library/hashlib.html) module"
      ],
      "metadata": {
        "id": "pOE1uO1c_LMt"
      }
    },
    {
      "cell_type": "code",
      "source": [
        "hash(\"Gandalf\")"
      ],
      "metadata": {
        "colab": {
          "base_uri": "https://localhost:8080/"
        },
        "id": "2nxf6xaDAHZu",
        "outputId": "bb3c6734-d74a-4b6b-dca8-73516efb967b"
      },
      "execution_count": null,
      "outputs": [
        {
          "output_type": "execute_result",
          "data": {
            "text/plain": [
              "-4263542386936650566"
            ]
          },
          "metadata": {},
          "execution_count": 9
        }
      ]
    },
    {
      "cell_type": "code",
      "source": [
        "hash(\"Gandalf\")%5"
      ],
      "metadata": {
        "colab": {
          "base_uri": "https://localhost:8080/"
        },
        "id": "8islbCOfAuHB",
        "outputId": "c7d7644f-5367-4347-cf57-9c31369e54c2"
      },
      "execution_count": null,
      "outputs": [
        {
          "output_type": "execute_result",
          "data": {
            "text/plain": [
              "4"
            ]
          },
          "metadata": {},
          "execution_count": 10
        }
      ]
    },
    {
      "cell_type": "code",
      "source": [
        "hash(\"sauron\")%5"
      ],
      "metadata": {
        "colab": {
          "base_uri": "https://localhost:8080/"
        },
        "id": "WTEHwrr-AzyL",
        "outputId": "996d1039-ff55-4d7a-dc89-c89909d2f657"
      },
      "execution_count": null,
      "outputs": [
        {
          "output_type": "execute_result",
          "data": {
            "text/plain": [
              "0"
            ]
          },
          "metadata": {},
          "execution_count": 12
        }
      ]
    },
    {
      "cell_type": "code",
      "source": [
        "hash(\"Radagast\")%5"
      ],
      "metadata": {
        "colab": {
          "base_uri": "https://localhost:8080/"
        },
        "id": "xRQw9kz3A3tR",
        "outputId": "beb43391-8b07-4570-a85a-a9b76f679e2f"
      },
      "execution_count": null,
      "outputs": [
        {
          "output_type": "execute_result",
          "data": {
            "text/plain": [
              "1"
            ]
          },
          "metadata": {},
          "execution_count": 12
        }
      ]
    },
    {
      "cell_type": "code",
      "source": [
        "BLANK = object()\n",
        "\n",
        "class HashTable:\n",
        "    def __init__(self, capacity):\n",
        "        self.values = capacity * [BLANK]\n",
        "\n",
        "    def __len__(self):\n",
        "        return len(self.values)\n",
        "\n",
        "    def __setitem__(self, key, value):\n",
        "        index = hash(key) % len(self)\n",
        "        self.values[index] = value\n",
        "\n",
        "    def __getitem__(self, key):\n",
        "        index = hash(key) % len(self)\n",
        "        return self.values[index]\n",
        "    \n",
        "    def __delitem__(self, key):\n",
        "        index = hash(key) % len(self)\n",
        "        del self.values[index]"
      ],
      "metadata": {
        "id": "2tXvVaICBmJQ"
      },
      "execution_count": null,
      "outputs": []
    },
    {
      "cell_type": "code",
      "source": [
        "wizards = HashTable(5)\n",
        "wizards['gandalf'] = \"the grey\"\n",
        "wizards['radagast'] = \"the brown\"\n",
        "wizards['saruman'] = \"the white\"\n",
        "print(wizards['gandalf'])"
      ],
      "metadata": {
        "colab": {
          "base_uri": "https://localhost:8080/"
        },
        "id": "YATnf8p5BqwU",
        "outputId": "e3dda029-c09d-4875-c489-e097ce0379fc"
      },
      "execution_count": null,
      "outputs": [
        {
          "output_type": "stream",
          "name": "stdout",
          "text": [
            "the grey\n"
          ]
        }
      ]
    },
    {
      "cell_type": "markdown",
      "source": [
        "## Collisions in Hash Tables\n",
        "\n"
      ],
      "metadata": {
        "id": "xVRRmee7Ru9r"
      }
    },
    {
      "cell_type": "code",
      "source": [
        "print(hash(\"radagast\")%4)\n",
        "print(hash(\"saruman\")%4)"
      ],
      "metadata": {
        "colab": {
          "base_uri": "https://localhost:8080/"
        },
        "id": "MV_kjxRfDzAN",
        "outputId": "4e8bfa6e-2f9a-4add-a79f-6a2ddaf4e041"
      },
      "execution_count": null,
      "outputs": [
        {
          "output_type": "stream",
          "name": "stdout",
          "text": [
            "1\n",
            "1\n"
          ]
        }
      ]
    },
    {
      "cell_type": "code",
      "source": [
        "print(wizards['radagast'])"
      ],
      "metadata": {
        "colab": {
          "base_uri": "https://localhost:8080/"
        },
        "id": "TjU_Y6pYEEu3",
        "outputId": "5cd6b83f-3407-4cbe-8f60-208d0a9bcbe3"
      },
      "execution_count": null,
      "outputs": [
        {
          "output_type": "stream",
          "name": "stdout",
          "text": [
            "the white\n"
          ]
        }
      ]
    },
    {
      "cell_type": "markdown",
      "source": [
        "### So how do we deal with collisions?\n",
        "\n",
        "* Perfect Hashing: Choose a perfect hash fucntion to avoid collisions in the first place (and while we're at it let's also bring me the moon)\n",
        "* Open Addressing: Spread the collided values in a predictable way that lets you retrieve them later\n",
        "  - Linear probing, as it is called, is sensitive to insertion order\n",
        "  - It can also potentially increase the search time to (worst case scenario) O(n) \n",
        "* Closed Addressing: Keep the collided values in a separate data structure to search through (like a linked list)\n",
        "  - Separate Chaining: group similar items together in a linked list "
      ],
      "metadata": {
        "id": "uux9rVMCENje"
      }
    },
    {
      "cell_type": "markdown",
      "source": [
        "[<img src=\"https://files.realpython.com/media/separate_chaining.cb416d02d088.png\">]\n",
        "\n",
        "\n",
        "\n"
      ],
      "metadata": {
        "id": "GhtifmzpF6pK"
      }
    },
    {
      "cell_type": "code",
      "source": [],
      "metadata": {
        "id": "SXsnnjOlGOxZ"
      },
      "execution_count": null,
      "outputs": []
    },
    {
      "cell_type": "markdown",
      "source": [
        "# Sorted Maps\n",
        "\n",
        "* So far the map ADT has allowed us to look up the value associated with a given key, in an **exact search**\n",
        "* This ADT does not provide a way to get a list of all values ordered by a certain value, or all values less than a certain value.\n",
        "* This is where the **sorted map** comes in."
      ],
      "metadata": {
        "id": "3yuOvifGR0iR"
      }
    },
    {
      "cell_type": "markdown",
      "source": [
        "## The Sorted Map supports the following methods:\n",
        "\n",
        "* ```M.find_min( )```: Return the (key,value) pair with minimum key\n",
        "(or None, if map is empty).\n",
        "* ```M.find_max( )```: Return the (key,value) pair with maximum key\n",
        "(or None, if map is empty).\n",
        "* ```M.find lt(k)```: Return the (key,value) pair with the greatest key that\n",
        "is strictly less than k (or None, if no such item exists).\n",
        "* ```M.find le(k)```: Return the (key,value) pair with the greatest key that\n",
        "is less than or equal to k (or None, if no such item\n",
        "exists).\n",
        "* ```M.find gt(k)```: Return the (key,value) pair with the least key that is\n",
        "strictly greater than k (or None, if no such item exists).\n",
        "* ```M.find ge(k)```: Return the (key,value) pair with the least key that is\n",
        "greater than or equal to k (or None, if no such item).\n",
        "* ```M.find range(start, stop):``` Iterate all (key,value) pairs with start <= key < stop. If start is None, iteration begins with minimum key; if\n",
        "stop is None, iteration concludes with maximum key.\n",
        "* ```iter(M):``` Iterate all keys of the map according to their natural\n",
        "order, from smallest to largest.\n",
        "* ```reversed(M):``` Iterate all keys of the map in reverse order; in Python,\n",
        "this is implemented with the reversed method."
      ],
      "metadata": {
        "id": "7t1HZVVkScWY"
      }
    },
    {
      "cell_type": "markdown",
      "source": [
        "## Simple Implementation of a Sorted Map\n",
        "\n",
        "* Store the items in an array-based sequence so that they are in increasing order of their keys.\n",
        "* We refer to this implementation of a map as a **sorted search table**\n"
      ],
      "metadata": {
        "id": "xRJB-ZmfS-eR"
      }
    },
    {
      "cell_type": "code",
      "source": [
        "class SortedTableMap(MapBase):\n",
        "\n",
        "    \"\"\"Map Implementation using a sorted table\"\"\"\n",
        "    def __init__(self):\n",
        "        \"\"\"create an empty map\"\"\"\n",
        "        self._table = []\n",
        "\n",
        "    def __len__(self):\n",
        "        \"\"\"return the number of items in the map\"\"\"\n",
        "        return len(self._table)\n",
        "\n",
        "    def __iter__(self):\n",
        "        for item in self._table:\n",
        "            yield item._key, item._value\n",
        "\n",
        "    def _find_index(self, k):\n",
        "        \"\"\"Return the index of the leftmost item with key greater than or equal to k\n",
        "        return high +` if no such item qualifies\n",
        "        That is, j will be returned such that:\n",
        "        all items of slice table[low:j] have key <k\n",
        "        all items of slice table[j:+1 high] have key >=k\"\"\"\n",
        "        def _find_index_inner(k, low, high):\n",
        "            if high < low:\n",
        "                # print(\"len:{0}, low:{1}, high:{2}\".format(len(self), low, high))\n",
        "                return low\n",
        "            mid = (low + high) // 2\n",
        "            if k == self._table[mid]._key:\n",
        "                return mid\n",
        "            elif k < self._table[mid]._key:\n",
        "                return _find_index_inner(k, low, mid - 1)\n",
        "            else:\n",
        "                return _find_index_inner(k, mid + 1, high)\n",
        "        return _find_index_inner(k, 0, len(self) - 1)\n",
        "\n",
        "    def __getitem__(self, k):\n",
        "        \"\"\"return the value associated with the key k\n",
        "        raise KeyError if not found\"\"\"\n",
        "        index = self._find_index(k)\n",
        "        if 0 <= index < len(self) and k == self._table[index]._key:\n",
        "            item = self._table[index]\n",
        "            return item._value\n",
        "        else:\n",
        "            raise KeyError(k)\n",
        "\n",
        "    def __setitem__(self, k, v):\n",
        "        \"\"\"assign value v to key k, overwriting existing key if present\"\"\"\n",
        "        index = self._find_index(k)\n",
        "        if index < len(self) and k == self._table[index]._key:\n",
        "            self._table[index]._value = v\n",
        "        else:\n",
        "            self._table.insert(index, self._Item(k, v))\n",
        "\n",
        "    def __delitem__(self, k):\n",
        "        \"\"\"delete item associated with key k, \n",
        "        raise KeyError if not found\"\"\"\n",
        "        index = self._find_index(k)\n",
        "        if index < len(self) and self._table[index]._key == k:\n",
        "            self._table.pop(index)\n",
        "        else:\n",
        "            raise KeyError(k)\n",
        "\n",
        "    def find_min(self):\n",
        "        \"\"\"return key,value pair with minimum key or None of if empty()\"\"\"\n",
        "        if len(self) > 0:\n",
        "            return self._table[0]._key, self._table[0]._value\n",
        "        else:\n",
        "            return None\n",
        "\n",
        "    def find_max(self):\n",
        "        \"\"\"return key,value pair with maximum key (or None if empty)\"\"\"\n",
        "        if len(self) > 0:\n",
        "            return self._table[-1]._key, self._table[-1]._value\n",
        "        else:\n",
        "            return None\n",
        "\n",
        "    def find_le(self, k):\n",
        "        \"\"\" Return the (key,value) pair with the greatest key that is less than or equal to k (or None, if no such item exists).\"\"\"\n",
        "        index = self._find_index(k)\n",
        "        if index < len(self) and self._table[index]._key == k:\n",
        "            item = self._table[index]\n",
        "        elif index > 0:\n",
        "            item = self._table[index-1]\n",
        "        else:\n",
        "            return None\n",
        "        return item._key, item._value\n",
        "\n",
        "    def find_lt(self, k):\n",
        "        \"\"\"Return the (key,value) pair with the greatest key that is strictly less than k (or None, if no such item exists).\"\"\"\n",
        "        index = self._find_index(k)\n",
        "        if index > 0:\n",
        "            item = self._table[index-1]\n",
        "            return item._key, item._value\n",
        "        else:\n",
        "            return None\n",
        "\n",
        "    def find_ge(self, k):\n",
        "        \"Return the (key,value) pair with the least key that is greater than or equal to k (or None, if no such item).\"\n",
        "        index = self._find_index(k)\n",
        "        if index >= len(self):\n",
        "            return None\n",
        "        else:\n",
        "            item = self._table[index]\n",
        "            return item._key, item._value\n",
        "\n",
        "    def find_gt(self, k):\n",
        "        \"\"\"Return the (key,value) pair with the least key that is strictly greater than k (or None, if no such item exists).\"\"\"\n",
        "        index = self._find_index(k)\n",
        "        if index < len(self) and self._table[index]._key == k:\n",
        "            if index < len(self) - 1:\n",
        "                item = self._table[index + 1]\n",
        "            else:\n",
        "                return None\n",
        "        elif index < len(self):\n",
        "            item = self._table[index]\n",
        "        else:\n",
        "            return None\n",
        "        return item._key, item._value\n",
        "\n"
      ],
      "metadata": {
        "id": "Bj2DID7JTiXd"
      },
      "execution_count": null,
      "outputs": []
    },
    {
      "cell_type": "code",
      "source": [
        " a = SortedTableMap()\n",
        " a[1] = 1\n",
        " a[2] = 2\n",
        " a[5] = 5\n",
        " a[4] = 4\n",
        " a[3] = 3\n",
        " a[1] = 1.1\n",
        " # a['a'] = 'a'\n",
        " # a['b'] = 'b'\n",
        " print(len(a))\n",
        " print(a.find_min(), a.find_max())\n",
        " print(a[1])\n",
        " # print(a[6])\n",
        " print(a.find_ge(6))"
      ],
      "metadata": {
        "id": "QmXxImfgWmm3"
      },
      "execution_count": null,
      "outputs": []
    },
    {
      "cell_type": "markdown",
      "source": [
        "## Applications of Sorted Maps: Flight Databases\n",
        "\n",
        "There are several Web sites on the Internet that allow users to perform queries on flight databases. \n",
        "* To make a query, a user specifies origin and destination cities, a departure data, and a departure time.\n",
        "* We can model such a database as a map, where keys are Flight Objects that contain fields corresponding to these 4 parameters.\n",
        "* Additional information about a flight, such as the flight number, the number of seats still available in first (F) and coach (Y) class, the flight duration, and the fare, can be stored in the value object.\n",
        "\n",
        "Finding a requested flight is not simply a matter of finding an exact match for a requested query. \n",
        "\n",
        "Although a user typically wants to exactly match the origin and destination cities, he or she may have flexibility for the departure date,\n",
        "and certainly will have some flexibility for the departure time on a specific day.\n",
        "We can handle such a query by ordering our keys lexicographically. Then, an efficient implementation for a sorted map would be a good way to satisfy users’\n",
        "queries.\n",
        "\n",
        "Think about how you would implement a FlightDatabase class by inheriting the sorted maps, because this is your assignment for this week. \n",
        "\n"
      ],
      "metadata": {
        "id": "9C8TEaqZWuxf"
      }
    },
    {
      "cell_type": "markdown",
      "source": [
        "# Skip Lists\n",
        "\n",
        "\n",
        "## Linked Lists\n",
        "\n",
        "* Updates are efficient -  deletion and insertion take constant time\n",
        "* searches are inefficient O(n)\n",
        "\n",
        "## Sorted Arrays\n",
        "\n",
        "* The opposite is true: Updates are inefficient.\n",
        "* Searches are efficient O(Log(n))\n",
        "\n",
        "## How can we get the best of both?\n",
        "\n",
        "* The skip list is used to store a sorted list of elements or data with a linked list. \n",
        "* It allows the process of the elements or data to view efficiently. \n",
        "* In one single step, it skips several elements of the entire list, which is why it is known as a skip list."
      ],
      "metadata": {
        "id": "dvZBLzUoZ4LE"
      }
    },
    {
      "cell_type": "markdown",
      "source": [
        "## What is a Skip List?\n",
        "\n",
        "* Maintain a sorted linked list\n",
        "* Add shortcuts (what if the train only needed to stop at every other station?)\n",
        "* Add shortcuts between shortcuts?"
      ],
      "metadata": {
        "id": "rARTNCqvwPqw"
      }
    },
    {
      "cell_type": "markdown",
      "source": [
        "![800px-Skip_list.svg.png](data:image/png;base64,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)"
      ],
      "metadata": {
        "id": "mHPN1Pl3vcI3"
      }
    },
    {
      "cell_type": "markdown",
      "source": [
        "## How do we search in a Skip List?\n",
        "\n",
        "Example: Search for element 5:\n",
        "\n",
        "- Start at top level, go to successor if successor is less than or equal to the element\n",
        "- if successor in level is greater than element, we go one level down\n",
        "\n",
        "## What is the time and space complexity of the skip list?\n",
        "\n",
        "- The size is O(n)\n",
        "- The time to search for an element is O(log(n))"
      ],
      "metadata": {
        "id": "XN7Q6etWx6mI"
      }
    },
    {
      "cell_type": "markdown",
      "source": [
        "## Perfect vs Randomised Skip Lists\n",
        "\n",
        "### Perfect Skip Lists:\n",
        "- The keys are sorted\n",
        "- Each higher level contains 1/2 the elements of the level below it.\n",
        "- There are header and sentinel nodes in every level \n",
        "\n",
        "### Randomised SKip List\n",
        "- The bottom level has all the elements\n",
        "- There is a 1/2 probability that the element is also in the next level.\n",
        "- When we insert into a randomised skip list, we also decide randomly on which level the element will be.\n",
        "- What is the time and space complexity of the randomised skip list?"
      ],
      "metadata": {
        "id": "NjXETkgC0G5n"
      }
    },
    {
      "cell_type": "code",
      "source": [
        "from random import randint\n",
        "\n",
        "INF = float('inf')\n",
        "\n",
        "class SkipList(MapBase):\n",
        "    class _Node:\n",
        "        __slots__ = \"_item\", \"_prev\", \"_next\", \"_above\", \"_below\"\n",
        "        def __init__(self, item, prev=None, next=None, above=None, below=None):\n",
        "            self._item = item\n",
        "            self._prev = prev\n",
        "            self._next = next\n",
        "            self._above = above\n",
        "            self._below = below\n",
        "\n",
        "        def __lt__(self, other):\n",
        "            return self._item < other._item\n",
        "\n",
        "        def __ge__(self, other):\n",
        "            return self._item >= other._item\n",
        "\n",
        "    # ----------------------------public methods------------------------------------\n",
        "    def __init__(self):\n",
        "        '''init a SkipList with only an 'empty' level(the height 0)'''\n",
        "        self._height = 0\n",
        "        self._size = 0\n",
        "        self._top = self._Node(self._Item(-INF, None))\n",
        "        inf_node = self._Node(self._Item(INF, None), prev=self._top)\n",
        "        self._top._next = inf_node\n",
        "\n",
        "    def __len__(self):\n",
        "        return self._size\n",
        "\n",
        "    def __getitem__(self, key):\n",
        "        node = self._find_key(key)\n",
        "        if key == node._item._key:\n",
        "            return node._item._value\n",
        "        else:\n",
        "            raise KeyError(key)\n",
        "\n",
        "    def __delitem__(self):\n",
        "        pass\n",
        "        \n",
        "    def __setitem__(self, key, value):\n",
        "        node = self._find_key(key)\n",
        "        if key == node._item._key:\n",
        "            node._item._value = value\n",
        "            walk = node._above\n",
        "            while walk is not None:\n",
        "                walk._item._value = value\n",
        "                walk = walk._above\n",
        "        else:\n",
        "            self._add_after(node, key, value, )\n",
        "\n",
        "    def add(self, key, value):\n",
        "        '''add a new (k,v) pair to the skiplist, creat a tower'''\n",
        "        node = self._find_key(key)\n",
        "        # print(\"find_key_node:\", node._item._key, \", key to insert:\", key)\n",
        "        self._add_after(node, key, value)\n",
        "\n",
        "    def __iter__(self):\n",
        "        walk = self._bottom(self._top)\n",
        "        while walk._next is not None:\n",
        "            yield walk._item._key\n",
        "            walk = walk._next\n",
        "\n",
        "    #----------------------------nonpublic methods------------------------------------\n",
        "    def _display(self):\n",
        "        '''a method for debugging, showing the rough structure of the SkipList'''\n",
        "        walk = self._top\n",
        "        while walk is not None:\n",
        "            move = walk\n",
        "            while move is not None:\n",
        "                print(move._item._key, end=' -> 'if move._item._key < INF else \"\")\n",
        "                move = move._next\n",
        "            walk = walk._below\n",
        "            print()\n",
        "\n",
        "    def _bottom(self, node):\n",
        "        '''given a node, get the bottom node of this colomn'''\n",
        "        walk = node\n",
        "        while walk._below is not None:\n",
        "            walk = walk._below\n",
        "        return walk\n",
        "\n",
        "    def _find_key(self, key):\n",
        "        level = self._height\n",
        "        walk = self._top\n",
        "        while level >= 0:\n",
        "            while key >= walk._next._item._key:\n",
        "                walk = walk._next\n",
        "            if level > 0:\n",
        "                walk = walk._below  #if already in the bottom, not go below\n",
        "            level -= 1\n",
        "        return walk\n",
        "\n",
        "    def _insert_after_above(self, node1, node2, key, value):\n",
        "        next = None if node1 is None else node1._next\n",
        "        new_node = self._Node(self._Item(key, value), prev=node1, next=next, above=None, below=node2)\n",
        "        if node2 is not None:\n",
        "            node2._above = new_node\n",
        "        if node1 is not None and node1._next is not None:\n",
        "            node1._next._prev = node1._next = new_node\n",
        "        elif node1 is not None:\n",
        "            node1._next = new_node\n",
        "        return new_node\n",
        "\n",
        "    def _add_after(self, node, key, value):\n",
        "        h = self._height\n",
        "        cur_h = 0\n",
        "        new_node = self._insert_after_above(node, None, key, value)  # insert the bottom node\n",
        "        self._size += 1\n",
        "        while randint(0, 8):\n",
        "            cur_h += 1\n",
        "            # print(\"cur_h:\", cur_h)\n",
        "            if cur_h > h:   #create a new line at the top\n",
        "                right_most = self._top\n",
        "                while right_most._next is not None:\n",
        "                    right_most = right_most._next\n",
        "                self._top = self._insert_after_above(None, self._top, -INF, None)\n",
        "                self._top._next = self._insert_after_above(self._top, right_most, INF, None)\n",
        "                self._height += 1\n",
        "            walk = new_node\n",
        "            while walk._prev is not None and walk._above is None:\n",
        "                walk = walk._prev\n",
        "            # print(\"height:\", self._height)\n",
        "            walk = walk._above\n",
        "            new_node = self._insert_after_above(walk, new_node, key, value)\n",
        "\n"
      ],
      "metadata": {
        "id": "B6lEL8xo2xj2"
      },
      "execution_count": null,
      "outputs": []
    },
    {
      "cell_type": "code",
      "source": [
        "a = SkipList()\n",
        "a.add(1, 1)\n",
        "a.add(5, 5)\n",
        "a.add(3, 3)\n",
        "a.add(4, 4)\n",
        "a.add(2, 2)\n",
        "a._display()\n",
        "print(\"len:\", len(a))\n",
        "print(\"height:\", a._height)\n",
        "for key in a:\n",
        "    print(key, a[key])\n",
        "print(\"a[1]:\", a[1])\n",
        "print(\"a[3]:\", a[3])\n",
        "a[4] = \"abcde\"\n",
        "for key in a:\n",
        "     print(key, a[key])"
      ],
      "metadata": {
        "colab": {
          "base_uri": "https://localhost:8080/"
        },
        "id": "7Uhj3nGD3EMN",
        "outputId": "9e28edbe-7852-429c-8275-7b2b0202f088"
      },
      "execution_count": null,
      "outputs": [
        {
          "output_type": "stream",
          "name": "stdout",
          "text": [
            "-inf -> 3 -> 5 -> inf\n",
            "-inf -> 3 -> 4 -> 5 -> inf\n",
            "-inf -> 3 -> 4 -> 5 -> inf\n",
            "-inf -> 3 -> 4 -> 5 -> inf\n",
            "-inf -> 3 -> 4 -> 5 -> inf\n",
            "-inf -> 3 -> 4 -> 5 -> inf\n",
            "-inf -> 3 -> 4 -> 5 -> inf\n",
            "-inf -> 3 -> 4 -> 5 -> inf\n",
            "-inf -> 1 -> 2 -> 3 -> 4 -> 5 -> inf\n",
            "-inf -> 1 -> 2 -> 3 -> 4 -> 5 -> inf\n",
            "-inf -> 1 -> 2 -> 3 -> 4 -> 5 -> inf\n",
            "-inf -> 1 -> 2 -> 3 -> 4 -> 5 -> inf\n",
            "len: 5\n",
            "height: 11\n",
            "-inf None\n",
            "1 1\n",
            "2 2\n",
            "3 3\n",
            "4 4\n",
            "5 5\n",
            "a[1]: 1\n",
            "a[3]: 3\n",
            "-inf None\n",
            "1 1\n",
            "2 2\n",
            "3 3\n",
            "4 abcde\n",
            "5 5\n"
          ]
        }
      ]
    }
  ]
}